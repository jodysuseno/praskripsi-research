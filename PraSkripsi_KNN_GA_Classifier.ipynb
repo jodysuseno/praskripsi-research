{
  "nbformat": 4,
  "nbformat_minor": 0,
  "metadata": {
    "colab": {
      "name": "PraSkripsi_KNN_GA_Classifier.ipynb",
      "provenance": [],
      "collapsed_sections": [],
      "authorship_tag": "ABX9TyN2GsqSejmhTP3NH485pu2Q",
      "include_colab_link": true
    },
    "kernelspec": {
      "name": "python3",
      "display_name": "Python 3"
    },
    "language_info": {
      "name": "python"
    }
  },
  "cells": [
    {
      "cell_type": "markdown",
      "metadata": {
        "id": "view-in-github",
        "colab_type": "text"
      },
      "source": [
        "<a href=\"https://colab.research.google.com/github/jodysuseno/praskripsi-research/blob/main/PraSkripsi_KNN_GA_Classifier.ipynb\" target=\"_parent\"><img src=\"https://colab.research.google.com/assets/colab-badge.svg\" alt=\"Open In Colab\"/></a>"
      ]
    },
    {
      "cell_type": "code",
      "metadata": {
        "id": "RVCWFu6qBdYv"
      },
      "source": [
        "import numpy as np\n",
        "import pandas as pd\n",
        "import matplotlib.pyplot as plt\n",
        "import missingno as msno\n",
        "from sklearn.metrics import accuracy_score, f1_score\n",
        "from sklearn.metrics import classification_report, confusion_matrix\n",
        "\n",
        "# from google.colab import drive\n",
        "# drive.mount('/content/gdrive')"
      ],
      "execution_count": 73,
      "outputs": []
    },
    {
      "cell_type": "code",
      "metadata": {
        "colab": {
          "base_uri": "https://localhost:8080/",
          "height": 52
        },
        "id": "XhZvyrEpCGxI",
        "outputId": "8b3be566-b155-471e-e628-4319477a769b"
      },
      "source": [
        "\n",
        "\n",
        "!pip install wget\n",
        "import wget\n",
        "url = \"https://github.com/jodysuseno/praskripsi-research/raw/main/dataset/csv_result-chronic_kidney_disease_full.csv\"\n",
        "wget.download(url)\n"
      ],
      "execution_count": 74,
      "outputs": [
        {
          "output_type": "stream",
          "name": "stdout",
          "text": [
            "Requirement already satisfied: wget in /usr/local/lib/python3.7/dist-packages (3.2)\n"
          ]
        },
        {
          "output_type": "execute_result",
          "data": {
            "application/vnd.google.colaboratory.intrinsic+json": {
              "type": "string"
            },
            "text/plain": [
              "'kidney_disease (2).csv'"
            ]
          },
          "metadata": {},
          "execution_count": 74
        }
      ]
    },
    {
      "cell_type": "code",
      "metadata": {
        "colab": {
          "base_uri": "https://localhost:8080/",
          "height": 224
        },
        "id": "McLFMBdpoTtN",
        "outputId": "b5bf2608-f00f-4f74-e492-5bc2e56e7821"
      },
      "source": [
        "df = pd.read_csv(\"/content/csv_result-chronic_kidney_disease_full.csv\")\n",
        "df.head()"
      ],
      "execution_count": 83,
      "outputs": [
        {
          "output_type": "execute_result",
          "data": {
            "text/html": [
              "<div>\n",
              "<style scoped>\n",
              "    .dataframe tbody tr th:only-of-type {\n",
              "        vertical-align: middle;\n",
              "    }\n",
              "\n",
              "    .dataframe tbody tr th {\n",
              "        vertical-align: top;\n",
              "    }\n",
              "\n",
              "    .dataframe thead th {\n",
              "        text-align: right;\n",
              "    }\n",
              "</style>\n",
              "<table border=\"1\" class=\"dataframe\">\n",
              "  <thead>\n",
              "    <tr style=\"text-align: right;\">\n",
              "      <th></th>\n",
              "      <th>id</th>\n",
              "      <th>age</th>\n",
              "      <th>bp</th>\n",
              "      <th>sg</th>\n",
              "      <th>al</th>\n",
              "      <th>su</th>\n",
              "      <th>rbc</th>\n",
              "      <th>pc</th>\n",
              "      <th>pcc</th>\n",
              "      <th>ba</th>\n",
              "      <th>bgr</th>\n",
              "      <th>bu</th>\n",
              "      <th>sc</th>\n",
              "      <th>sod</th>\n",
              "      <th>pot</th>\n",
              "      <th>hemo</th>\n",
              "      <th>pcv</th>\n",
              "      <th>wbcc</th>\n",
              "      <th>rbcc</th>\n",
              "      <th>htn</th>\n",
              "      <th>dm</th>\n",
              "      <th>cad</th>\n",
              "      <th>appet</th>\n",
              "      <th>pe</th>\n",
              "      <th>ane</th>\n",
              "      <th>class</th>\n",
              "    </tr>\n",
              "  </thead>\n",
              "  <tbody>\n",
              "    <tr>\n",
              "      <th>0</th>\n",
              "      <td>1</td>\n",
              "      <td>48.0</td>\n",
              "      <td>80.0</td>\n",
              "      <td>1,020</td>\n",
              "      <td>1.0</td>\n",
              "      <td>0.0</td>\n",
              "      <td>NaN</td>\n",
              "      <td>normal</td>\n",
              "      <td>notpresent</td>\n",
              "      <td>notpresent</td>\n",
              "      <td>121.0</td>\n",
              "      <td>36.0</td>\n",
              "      <td>1.2</td>\n",
              "      <td>NaN</td>\n",
              "      <td>NaN</td>\n",
              "      <td>15.4</td>\n",
              "      <td>44.0</td>\n",
              "      <td>7800.0</td>\n",
              "      <td>5.2</td>\n",
              "      <td>yes</td>\n",
              "      <td>yes</td>\n",
              "      <td>no</td>\n",
              "      <td>good</td>\n",
              "      <td>no</td>\n",
              "      <td>no</td>\n",
              "      <td>ckd</td>\n",
              "    </tr>\n",
              "    <tr>\n",
              "      <th>1</th>\n",
              "      <td>2</td>\n",
              "      <td>7.0</td>\n",
              "      <td>50.0</td>\n",
              "      <td>1,020</td>\n",
              "      <td>4.0</td>\n",
              "      <td>0.0</td>\n",
              "      <td>NaN</td>\n",
              "      <td>normal</td>\n",
              "      <td>notpresent</td>\n",
              "      <td>notpresent</td>\n",
              "      <td>NaN</td>\n",
              "      <td>18.0</td>\n",
              "      <td>0.8</td>\n",
              "      <td>NaN</td>\n",
              "      <td>NaN</td>\n",
              "      <td>11.3</td>\n",
              "      <td>38.0</td>\n",
              "      <td>6000.0</td>\n",
              "      <td>NaN</td>\n",
              "      <td>no</td>\n",
              "      <td>no</td>\n",
              "      <td>no</td>\n",
              "      <td>good</td>\n",
              "      <td>no</td>\n",
              "      <td>no</td>\n",
              "      <td>ckd</td>\n",
              "    </tr>\n",
              "    <tr>\n",
              "      <th>2</th>\n",
              "      <td>3</td>\n",
              "      <td>62.0</td>\n",
              "      <td>80.0</td>\n",
              "      <td>1,010</td>\n",
              "      <td>2.0</td>\n",
              "      <td>3.0</td>\n",
              "      <td>normal</td>\n",
              "      <td>normal</td>\n",
              "      <td>notpresent</td>\n",
              "      <td>notpresent</td>\n",
              "      <td>423.0</td>\n",
              "      <td>53.0</td>\n",
              "      <td>1.8</td>\n",
              "      <td>NaN</td>\n",
              "      <td>NaN</td>\n",
              "      <td>9.6</td>\n",
              "      <td>31.0</td>\n",
              "      <td>7500.0</td>\n",
              "      <td>NaN</td>\n",
              "      <td>no</td>\n",
              "      <td>yes</td>\n",
              "      <td>no</td>\n",
              "      <td>poor</td>\n",
              "      <td>no</td>\n",
              "      <td>yes</td>\n",
              "      <td>ckd</td>\n",
              "    </tr>\n",
              "    <tr>\n",
              "      <th>3</th>\n",
              "      <td>4</td>\n",
              "      <td>48.0</td>\n",
              "      <td>70.0</td>\n",
              "      <td>1,005</td>\n",
              "      <td>4.0</td>\n",
              "      <td>0.0</td>\n",
              "      <td>normal</td>\n",
              "      <td>abnormal</td>\n",
              "      <td>present</td>\n",
              "      <td>notpresent</td>\n",
              "      <td>117.0</td>\n",
              "      <td>56.0</td>\n",
              "      <td>3.8</td>\n",
              "      <td>111.0</td>\n",
              "      <td>2.5</td>\n",
              "      <td>11.2</td>\n",
              "      <td>32.0</td>\n",
              "      <td>6700.0</td>\n",
              "      <td>3.9</td>\n",
              "      <td>yes</td>\n",
              "      <td>no</td>\n",
              "      <td>no</td>\n",
              "      <td>poor</td>\n",
              "      <td>yes</td>\n",
              "      <td>yes</td>\n",
              "      <td>ckd</td>\n",
              "    </tr>\n",
              "    <tr>\n",
              "      <th>4</th>\n",
              "      <td>5</td>\n",
              "      <td>51.0</td>\n",
              "      <td>80.0</td>\n",
              "      <td>1,010</td>\n",
              "      <td>2.0</td>\n",
              "      <td>0.0</td>\n",
              "      <td>normal</td>\n",
              "      <td>normal</td>\n",
              "      <td>notpresent</td>\n",
              "      <td>notpresent</td>\n",
              "      <td>106.0</td>\n",
              "      <td>26.0</td>\n",
              "      <td>1.4</td>\n",
              "      <td>NaN</td>\n",
              "      <td>NaN</td>\n",
              "      <td>11.6</td>\n",
              "      <td>35.0</td>\n",
              "      <td>7300.0</td>\n",
              "      <td>4.6</td>\n",
              "      <td>no</td>\n",
              "      <td>no</td>\n",
              "      <td>no</td>\n",
              "      <td>good</td>\n",
              "      <td>no</td>\n",
              "      <td>no</td>\n",
              "      <td>ckd</td>\n",
              "    </tr>\n",
              "  </tbody>\n",
              "</table>\n",
              "</div>"
            ],
            "text/plain": [
              "   id   age    bp     sg   al   su     rbc  ...  htn   dm cad  appet   pe  ane  class\n",
              "0   1  48.0  80.0  1,020  1.0  0.0     NaN  ...  yes  yes  no   good   no   no    ckd\n",
              "1   2   7.0  50.0  1,020  4.0  0.0     NaN  ...   no   no  no   good   no   no    ckd\n",
              "2   3  62.0  80.0  1,010  2.0  3.0  normal  ...   no  yes  no   poor   no  yes    ckd\n",
              "3   4  48.0  70.0  1,005  4.0  0.0  normal  ...  yes   no  no   poor  yes  yes    ckd\n",
              "4   5  51.0  80.0  1,010  2.0  0.0  normal  ...   no   no  no   good   no   no    ckd\n",
              "\n",
              "[5 rows x 26 columns]"
            ]
          },
          "metadata": {},
          "execution_count": 83
        }
      ]
    },
    {
      "cell_type": "code",
      "metadata": {
        "colab": {
          "base_uri": "https://localhost:8080/",
          "height": 224
        },
        "id": "fpNq5qkLKwgA",
        "outputId": "576312f6-dbfb-42ad-ed9b-6e659ab13c2c"
      },
      "source": [
        "\n",
        "df.drop(['id', 'sg','rbc','pc'], inplace=True, axis=1)\n",
        "\n",
        "\n",
        "df.head()"
      ],
      "execution_count": 84,
      "outputs": [
        {
          "output_type": "execute_result",
          "data": {
            "text/html": [
              "<div>\n",
              "<style scoped>\n",
              "    .dataframe tbody tr th:only-of-type {\n",
              "        vertical-align: middle;\n",
              "    }\n",
              "\n",
              "    .dataframe tbody tr th {\n",
              "        vertical-align: top;\n",
              "    }\n",
              "\n",
              "    .dataframe thead th {\n",
              "        text-align: right;\n",
              "    }\n",
              "</style>\n",
              "<table border=\"1\" class=\"dataframe\">\n",
              "  <thead>\n",
              "    <tr style=\"text-align: right;\">\n",
              "      <th></th>\n",
              "      <th>age</th>\n",
              "      <th>bp</th>\n",
              "      <th>al</th>\n",
              "      <th>su</th>\n",
              "      <th>pcc</th>\n",
              "      <th>ba</th>\n",
              "      <th>bgr</th>\n",
              "      <th>bu</th>\n",
              "      <th>sc</th>\n",
              "      <th>sod</th>\n",
              "      <th>pot</th>\n",
              "      <th>hemo</th>\n",
              "      <th>pcv</th>\n",
              "      <th>wbcc</th>\n",
              "      <th>rbcc</th>\n",
              "      <th>htn</th>\n",
              "      <th>dm</th>\n",
              "      <th>cad</th>\n",
              "      <th>appet</th>\n",
              "      <th>pe</th>\n",
              "      <th>ane</th>\n",
              "      <th>class</th>\n",
              "    </tr>\n",
              "  </thead>\n",
              "  <tbody>\n",
              "    <tr>\n",
              "      <th>0</th>\n",
              "      <td>48.0</td>\n",
              "      <td>80.0</td>\n",
              "      <td>1.0</td>\n",
              "      <td>0.0</td>\n",
              "      <td>notpresent</td>\n",
              "      <td>notpresent</td>\n",
              "      <td>121.0</td>\n",
              "      <td>36.0</td>\n",
              "      <td>1.2</td>\n",
              "      <td>NaN</td>\n",
              "      <td>NaN</td>\n",
              "      <td>15.4</td>\n",
              "      <td>44.0</td>\n",
              "      <td>7800.0</td>\n",
              "      <td>5.2</td>\n",
              "      <td>yes</td>\n",
              "      <td>yes</td>\n",
              "      <td>no</td>\n",
              "      <td>good</td>\n",
              "      <td>no</td>\n",
              "      <td>no</td>\n",
              "      <td>ckd</td>\n",
              "    </tr>\n",
              "    <tr>\n",
              "      <th>1</th>\n",
              "      <td>7.0</td>\n",
              "      <td>50.0</td>\n",
              "      <td>4.0</td>\n",
              "      <td>0.0</td>\n",
              "      <td>notpresent</td>\n",
              "      <td>notpresent</td>\n",
              "      <td>NaN</td>\n",
              "      <td>18.0</td>\n",
              "      <td>0.8</td>\n",
              "      <td>NaN</td>\n",
              "      <td>NaN</td>\n",
              "      <td>11.3</td>\n",
              "      <td>38.0</td>\n",
              "      <td>6000.0</td>\n",
              "      <td>NaN</td>\n",
              "      <td>no</td>\n",
              "      <td>no</td>\n",
              "      <td>no</td>\n",
              "      <td>good</td>\n",
              "      <td>no</td>\n",
              "      <td>no</td>\n",
              "      <td>ckd</td>\n",
              "    </tr>\n",
              "    <tr>\n",
              "      <th>2</th>\n",
              "      <td>62.0</td>\n",
              "      <td>80.0</td>\n",
              "      <td>2.0</td>\n",
              "      <td>3.0</td>\n",
              "      <td>notpresent</td>\n",
              "      <td>notpresent</td>\n",
              "      <td>423.0</td>\n",
              "      <td>53.0</td>\n",
              "      <td>1.8</td>\n",
              "      <td>NaN</td>\n",
              "      <td>NaN</td>\n",
              "      <td>9.6</td>\n",
              "      <td>31.0</td>\n",
              "      <td>7500.0</td>\n",
              "      <td>NaN</td>\n",
              "      <td>no</td>\n",
              "      <td>yes</td>\n",
              "      <td>no</td>\n",
              "      <td>poor</td>\n",
              "      <td>no</td>\n",
              "      <td>yes</td>\n",
              "      <td>ckd</td>\n",
              "    </tr>\n",
              "    <tr>\n",
              "      <th>3</th>\n",
              "      <td>48.0</td>\n",
              "      <td>70.0</td>\n",
              "      <td>4.0</td>\n",
              "      <td>0.0</td>\n",
              "      <td>present</td>\n",
              "      <td>notpresent</td>\n",
              "      <td>117.0</td>\n",
              "      <td>56.0</td>\n",
              "      <td>3.8</td>\n",
              "      <td>111.0</td>\n",
              "      <td>2.5</td>\n",
              "      <td>11.2</td>\n",
              "      <td>32.0</td>\n",
              "      <td>6700.0</td>\n",
              "      <td>3.9</td>\n",
              "      <td>yes</td>\n",
              "      <td>no</td>\n",
              "      <td>no</td>\n",
              "      <td>poor</td>\n",
              "      <td>yes</td>\n",
              "      <td>yes</td>\n",
              "      <td>ckd</td>\n",
              "    </tr>\n",
              "    <tr>\n",
              "      <th>4</th>\n",
              "      <td>51.0</td>\n",
              "      <td>80.0</td>\n",
              "      <td>2.0</td>\n",
              "      <td>0.0</td>\n",
              "      <td>notpresent</td>\n",
              "      <td>notpresent</td>\n",
              "      <td>106.0</td>\n",
              "      <td>26.0</td>\n",
              "      <td>1.4</td>\n",
              "      <td>NaN</td>\n",
              "      <td>NaN</td>\n",
              "      <td>11.6</td>\n",
              "      <td>35.0</td>\n",
              "      <td>7300.0</td>\n",
              "      <td>4.6</td>\n",
              "      <td>no</td>\n",
              "      <td>no</td>\n",
              "      <td>no</td>\n",
              "      <td>good</td>\n",
              "      <td>no</td>\n",
              "      <td>no</td>\n",
              "      <td>ckd</td>\n",
              "    </tr>\n",
              "  </tbody>\n",
              "</table>\n",
              "</div>"
            ],
            "text/plain": [
              "    age    bp   al   su         pcc          ba  ...   dm  cad  appet   pe  ane  class\n",
              "0  48.0  80.0  1.0  0.0  notpresent  notpresent  ...  yes   no   good   no   no    ckd\n",
              "1   7.0  50.0  4.0  0.0  notpresent  notpresent  ...   no   no   good   no   no    ckd\n",
              "2  62.0  80.0  2.0  3.0  notpresent  notpresent  ...  yes   no   poor   no  yes    ckd\n",
              "3  48.0  70.0  4.0  0.0     present  notpresent  ...   no   no   poor  yes  yes    ckd\n",
              "4  51.0  80.0  2.0  0.0  notpresent  notpresent  ...   no   no   good   no   no    ckd\n",
              "\n",
              "[5 rows x 22 columns]"
            ]
          },
          "metadata": {},
          "execution_count": 84
        }
      ]
    },
    {
      "cell_type": "code",
      "metadata": {
        "colab": {
          "base_uri": "https://localhost:8080/"
        },
        "id": "rtGcSPT5OGyU",
        "outputId": "dd7a22ef-30dd-403f-dc27-24ca4921cc58"
      },
      "source": [
        "def cek_null(df):\n",
        "    col_na = df.isnull().sum().sort_values(ascending=False)\n",
        "    percent = col_na / len(df)\n",
        "    \n",
        "    missing_data = pd.concat([col_na, percent], axis=1, keys=['Total', 'Percent'])\n",
        "    print(missing_data[missing_data['Total'] > 0])\n",
        "\n",
        "cek_null(df)"
      ],
      "execution_count": 85,
      "outputs": [
        {
          "output_type": "stream",
          "name": "stdout",
          "text": [
            "       Total  Percent\n",
            "rbcc     131   0.3275\n",
            "wbcc     106   0.2650\n",
            "pot       88   0.2200\n",
            "sod       87   0.2175\n",
            "pcv       71   0.1775\n",
            "hemo      52   0.1300\n",
            "su        49   0.1225\n",
            "al        46   0.1150\n",
            "bgr       44   0.1100\n",
            "bu        19   0.0475\n",
            "sc        17   0.0425\n",
            "bp        12   0.0300\n",
            "age        9   0.0225\n",
            "ba         4   0.0100\n",
            "pcc        4   0.0100\n",
            "dm         3   0.0075\n",
            "cad        3   0.0075\n",
            "ane        2   0.0050\n",
            "htn        2   0.0050\n",
            "appet      2   0.0050\n",
            "pe         2   0.0050\n",
            "class      1   0.0025\n"
          ]
        }
      ]
    },
    {
      "cell_type": "code",
      "metadata": {
        "colab": {
          "base_uri": "https://localhost:8080/"
        },
        "id": "5BTJzbzHOOAC",
        "outputId": "08d45b10-4575-4acd-d8bd-2c81be277892"
      },
      "source": [
        "categorical_col, contin_val=[],[]\n",
        "\n",
        "for i in df.columns:\n",
        "    \n",
        "    if df[i].dtype == 'object':\n",
        "        categorical_col.append(i)\n",
        "    else:\n",
        "        contin_val.append(i)\n",
        "        \n",
        "print(categorical_col)\n",
        "print(contin_val)"
      ],
      "execution_count": 86,
      "outputs": [
        {
          "output_type": "stream",
          "name": "stdout",
          "text": [
            "['pcc', 'ba', 'htn', 'dm', 'cad', 'appet', 'pe', 'ane', 'class']\n",
            "['age', 'bp', 'al', 'su', 'bgr', 'bu', 'sc', 'sod', 'pot', 'hemo', 'pcv', 'wbcc', 'rbcc']\n"
          ]
        }
      ]
    },
    {
      "cell_type": "code",
      "metadata": {
        "colab": {
          "base_uri": "https://localhost:8080/"
        },
        "id": "MQgV57fuPjYH",
        "outputId": "ff6fa6fc-3b04-4eff-e3ec-3224595625e2"
      },
      "source": [
        "df.nunique()"
      ],
      "execution_count": 87,
      "outputs": [
        {
          "output_type": "execute_result",
          "data": {
            "text/plain": [
              "age       76\n",
              "bp        10\n",
              "al         6\n",
              "su         6\n",
              "pcc        2\n",
              "ba         2\n",
              "bgr      146\n",
              "bu       118\n",
              "sc        84\n",
              "sod       34\n",
              "pot       40\n",
              "hemo     115\n",
              "pcv       42\n",
              "wbcc      89\n",
              "rbcc      45\n",
              "htn        2\n",
              "dm         2\n",
              "cad        2\n",
              "appet      2\n",
              "pe         2\n",
              "ane        2\n",
              "class      2\n",
              "dtype: int64"
            ]
          },
          "metadata": {},
          "execution_count": 87
        }
      ]
    },
    {
      "cell_type": "code",
      "metadata": {
        "colab": {
          "base_uri": "https://localhost:8080/"
        },
        "id": "x2GOPFcQPlCW",
        "outputId": "6548fcff-e034-449f-bc93-d8934146d837"
      },
      "source": [
        "df.isnull().sum()"
      ],
      "execution_count": 88,
      "outputs": [
        {
          "output_type": "execute_result",
          "data": {
            "text/plain": [
              "age        9\n",
              "bp        12\n",
              "al        46\n",
              "su        49\n",
              "pcc        4\n",
              "ba         4\n",
              "bgr       44\n",
              "bu        19\n",
              "sc        17\n",
              "sod       87\n",
              "pot       88\n",
              "hemo      52\n",
              "pcv       71\n",
              "wbcc     106\n",
              "rbcc     131\n",
              "htn        2\n",
              "dm         3\n",
              "cad        3\n",
              "appet      2\n",
              "pe         2\n",
              "ane        2\n",
              "class      1\n",
              "dtype: int64"
            ]
          },
          "metadata": {},
          "execution_count": 88
        }
      ]
    },
    {
      "cell_type": "code",
      "metadata": {
        "colab": {
          "base_uri": "https://localhost:8080/",
          "height": 431
        },
        "id": "94ayoEnwPoYH",
        "outputId": "e14baffe-003b-48ef-f0b7-193f879f9bdd"
      },
      "source": [
        "msno.matrix(df)"
      ],
      "execution_count": 89,
      "outputs": [
        {
          "output_type": "execute_result",
          "data": {
            "text/plain": [
              "<matplotlib.axes._subplots.AxesSubplot at 0x7ff0247d7e10>"
            ]
          },
          "metadata": {},
          "execution_count": 89
        },
        {
          "output_type": "display_data",
          "data": {
            "image/png": "[encoded data removed]",
            "text/plain": [
              "<Figure size 1800x720 with 2 Axes>"
            ]
          },
          "metadata": {
            "needs_background": "light"
          }
        }
      ]
    },
    {
      "cell_type": "code",
      "metadata": {
        "id": "XmkdTzXCQIj2"
      },
      "source": [
        "\n",
        "df['htn'] = df['htn'].map({'yes': 1, 'no': 0})\n",
        "df['dm'] = df['dm'].map({'yes': 1, 'no': 0})\n",
        "df['cad'] = df['cad'].map({'yes': 1, 'no': 0})\n",
        "df['appet'] = df['appet'].map({'good': 1, 'poor': 0})\n",
        "df['pe'] = df['pe'].map({'yes': 1, 'no': 0})\n",
        "df['ane'] = df['ane'].map({'yes': 1, 'no': 0})\n",
        "df['class'] = df['class'].map({'ckd': 1, 'notckd': 0})\n",
        "df['pcc'] = df['pcc'].map({'present': 1, 'notpresent': 0})\n",
        "df['ba'] = df['ba'].map({'present': 1, 'notpresent': 0})\n",
        "\n",
        "\n",
        "df['age']=df['age'].fillna(df['age'].mean())\n",
        "df['bp']=df['bp'].fillna(df['bp'].mean())\n",
        "df['al']=df['al'].fillna(df['al'].mean())\n",
        "df['su']=df['su'].fillna(df['su'].mean())\n",
        "df['bgr']=df['bgr'].fillna(df['bgr'].mean())\n",
        "df['bu']=df['bu'].fillna(df['bu'].mean())\n",
        "df['sc']=df['sc'].fillna(df['sc'].mean())\n",
        "df['sod']=df['sod'].fillna(df['sod'].mean())\n",
        "df['pot']=df['pot'].fillna(df['pot'].mean())\n",
        "df['hemo']=df['hemo'].fillna(df['hemo'].mean())\n",
        "df['pcv']=df['pcv'].fillna(df['pcv'].mean())\n",
        "df['wbcc']=df['wbcc'].fillna(df['wbcc'].mean())\n",
        "df['rbcc']=df['rbcc'].fillna(df['rbcc'].mean())\n",
        "\n",
        "\n",
        "df = df.dropna()\n",
        "\n",
        "df.head()"
      ],
      "execution_count": null,
      "outputs": []
    },
    {
      "cell_type": "code",
      "metadata": {
        "colab": {
          "base_uri": "https://localhost:8080/"
        },
        "id": "LQNyXP2KU9Nm",
        "outputId": "dae7a3af-6bf4-485e-aca2-b6cca4d229da"
      },
      "source": [
        "df.isnull().sum()"
      ],
      "execution_count": 91,
      "outputs": [
        {
          "output_type": "execute_result",
          "data": {
            "text/plain": [
              "age      0\n",
              "bp       0\n",
              "al       0\n",
              "su       0\n",
              "pcc      0\n",
              "ba       0\n",
              "bgr      0\n",
              "bu       0\n",
              "sc       0\n",
              "sod      0\n",
              "pot      0\n",
              "hemo     0\n",
              "pcv      0\n",
              "wbcc     0\n",
              "rbcc     0\n",
              "htn      0\n",
              "dm       0\n",
              "cad      0\n",
              "appet    0\n",
              "pe       0\n",
              "ane      0\n",
              "class    0\n",
              "dtype: int64"
            ]
          },
          "metadata": {},
          "execution_count": 91
        }
      ]
    },
    {
      "cell_type": "code",
      "metadata": {
        "colab": {
          "base_uri": "https://localhost:8080/"
        },
        "id": "nTIYjf7-W6gp",
        "outputId": "430651df-8109-4a99-97b8-db362c105056"
      },
      "source": [
        "#Menyeimbangkan data \n",
        "import os\n",
        "from imblearn.over_sampling import SMOTE\n",
        "from collections import Counter\n",
        "os = SMOTE()\n",
        "x, y = os.fit_resample(df.iloc[:,:-1], df.iloc[:,-1])\n",
        "count = Counter(y)\n",
        "print(count)"
      ],
      "execution_count": 92,
      "outputs": [
        {
          "output_type": "stream",
          "name": "stdout",
          "text": [
            "Counter({1.0: 250, 0.0: 250})\n"
          ]
        },
        {
          "output_type": "stream",
          "name": "stderr",
          "text": [
            "/usr/local/lib/python3.7/dist-packages/sklearn/utils/deprecation.py:87: FutureWarning: Function safe_indexing is deprecated; safe_indexing is deprecated in version 0.22 and will be removed in version 0.24.\n",
            "  warnings.warn(msg, category=FutureWarning)\n"
          ]
        }
      ]
    },
    {
      "cell_type": "code",
      "metadata": {
        "id": "p5youQmYWzyi"
      },
      "source": [
        "from sklearn.model_selection import train_test_split\n",
        "x_train, x_test, y_train, y_test = train_test_split(x, y, test_size=0.2, random_state=42)"
      ],
      "execution_count": 93,
      "outputs": []
    },
    {
      "cell_type": "code",
      "metadata": {
        "colab": {
          "base_uri": "https://localhost:8080/"
        },
        "id": "MpFwJoNqXJQY",
        "outputId": "635594ac-1b46-4a1f-b2bb-bc1c4a2485cc"
      },
      "source": [
        "from sklearn.neighbors import KNeighborsClassifier\n",
        "knn = KNeighborsClassifier(n_neighbors=5)\n",
        "knn.fit(x_train, y_train)\n",
        "y_pred = knn.predict(x_test)\n",
        "print(\"Classification Report:\\n\", classification_report(y_test, y_pred, digits=4))\n",
        "print(\"Hasil Akurasi menggunakan K Neighbors Classifier : \", accuracy_score(y_test, y_pred)*100, \"%\")\n",
        "ac_knn = accuracy_score(y_test, y_pred)*100\n",
        "print()\n",
        "print(\"Hasil F1 score Menggunakan K Neighbors Classifier :\",f1_score(y_test, y_pred,)*100, \"%\")"
      ],
      "execution_count": 121,
      "outputs": [
        {
          "output_type": "stream",
          "name": "stdout",
          "text": [
            "Classification Report:\n",
            "               precision    recall  f1-score   support\n",
            "\n",
            "         0.0     0.7612    0.9444    0.8430        54\n",
            "         1.0     0.9091    0.6522    0.7595        46\n",
            "\n",
            "    accuracy                         0.8100       100\n",
            "   macro avg     0.8351    0.7983    0.8012       100\n",
            "weighted avg     0.8292    0.8100    0.8046       100\n",
            "\n",
            "Hasil Akurasi menggunakan K Neighbors Classifier :  81.0 %\n",
            "\n",
            "Hasil F1 score Menggunakan K Neighbors Classifier : 75.9493670886076 %\n"
          ]
        }
      ]
    },
    {
      "cell_type": "code",
      "metadata": {
        "id": "l70LMJEWDtsf"
      },
      "source": [
        "from sklearn.neighbors import KNeighborsClassifier\n",
        "knnAg = KNeighborsClassifier(n_neighbors=5)\n",
        "\n"
      ],
      "execution_count": 122,
      "outputs": []
    },
    {
      "cell_type": "code",
      "metadata": {
        "colab": {
          "base_uri": "https://localhost:8080/"
        },
        "id": "0V3tAZcfEZ59",
        "outputId": "22eaea93-9fb7-41ea-8f65-d51f111f1ed7"
      },
      "source": [
        "# estimator = DecisionTreeClassifier()\n",
        "!pip install sklearn-genetic\n",
        "from genetic_selection import GeneticSelectionCV\n",
        "model = GeneticSelectionCV(\n",
        "    knnAg, cv=5, verbose=0,\n",
        "    scoring=\"accuracy\", max_features=5,\n",
        "    n_population=100, crossover_proba=0.5,\n",
        "    mutation_proba=0.2, n_generations=50,\n",
        "    crossover_independent_proba=0.5,\n",
        "    mutation_independent_proba=0.04,\n",
        "    tournament_size=3, n_gen_no_change=10,\n",
        "    caching=True, n_jobs=-1)\n",
        "model = model.fit(x_train, y_train)\n",
        "# print('Features:', X.columns[model.support_])\n"
      ],
      "execution_count": 100,
      "outputs": [
        {
          "output_type": "stream",
          "name": "stdout",
          "text": [
            "Collecting sklearn-genetic\n",
            "  Downloading sklearn_genetic-0.4.1-py2.py3-none-any.whl (10 kB)\n",
            "Collecting deap>=1.0.2\n",
            "  Downloading deap-1.3.1-cp37-cp37m-manylinux_2_5_x86_64.manylinux1_x86_64.manylinux_2_12_x86_64.manylinux2010_x86_64.whl (160 kB)\n",
            "\u001b[K     |████████████████████████████████| 160 kB 5.1 MB/s \n",
            "\u001b[?25hRequirement already satisfied: scikit-learn>=0.20.3 in /usr/local/lib/python3.7/dist-packages (from sklearn-genetic) (0.22.2.post1)\n",
            "Requirement already satisfied: numpy in /usr/local/lib/python3.7/dist-packages (from deap>=1.0.2->sklearn-genetic) (1.19.5)\n",
            "Requirement already satisfied: scipy>=0.17.0 in /usr/local/lib/python3.7/dist-packages (from scikit-learn>=0.20.3->sklearn-genetic) (1.4.1)\n",
            "Requirement already satisfied: joblib>=0.11 in /usr/local/lib/python3.7/dist-packages (from scikit-learn>=0.20.3->sklearn-genetic) (1.1.0)\n",
            "Installing collected packages: deap, sklearn-genetic\n",
            "Successfully installed deap-1.3.1 sklearn-genetic-0.4.1\n"
          ]
        }
      ]
    },
    {
      "cell_type": "code",
      "metadata": {
        "colab": {
          "base_uri": "https://localhost:8080/"
        },
        "id": "EcLbpB5QEZwn",
        "outputId": "2af09683-2092-43d1-9f85-e1872dfd9cee"
      },
      "source": [
        "\n",
        "\n",
        "# knnAg.fit(x_train, y_train)\n",
        "y_pred = model.predict(x_test)\n",
        "print(\"Classification Report:\\n\", classification_report(y_test, y_pred, digits=4))\n",
        "print(\"Hasil Akurasi menggunakan K Neighbors Classifier & AG : \", accuracy_score(y_test, y_pred)*100, \"%\")\n",
        "ac_knn_ag = accuracy_score(y_test, y_pred)*100\n",
        "print()\n",
        "print(\"Hasil F1 score Menggunakan K Neighbors Classifier & AG :\",f1_score(y_test, y_pred,)*100, \"%\")"
      ],
      "execution_count": 123,
      "outputs": [
        {
          "output_type": "stream",
          "name": "stdout",
          "text": [
            "Classification Report:\n",
            "               precision    recall  f1-score   support\n",
            "\n",
            "         0.0     0.9815    0.9815    0.9815        54\n",
            "         1.0     0.9783    0.9783    0.9783        46\n",
            "\n",
            "    accuracy                         0.9800       100\n",
            "   macro avg     0.9799    0.9799    0.9799       100\n",
            "weighted avg     0.9800    0.9800    0.9800       100\n",
            "\n",
            "Hasil Akurasi menggunakan K Neighbors Classifier & AG :  98.0 %\n",
            "\n",
            "Hasil F1 score Menggunakan K Neighbors Classifier & AG : 97.82608695652173 %\n"
          ]
        }
      ]
    },
    {
      "cell_type": "code",
      "metadata": {
        "colab": {
          "base_uri": "https://localhost:8080/"
        },
        "id": "9eTFsikCXVk5",
        "outputId": "3a5bba2b-ba95-41a3-fe47-e4c360a8dc54"
      },
      "source": [
        "from sklearn.naive_bayes import GaussianNB\n",
        "gnb = GaussianNB()\n",
        "gnb.fit(x_train, y_train)\n",
        "y_pred = gnb.predict(x_test)\n",
        "print(\"Classification Report:\\n\", classification_report(y_test, y_pred, digits=4))\n",
        "\n",
        "print(\"Hasil Akurasi menggunakan Naive Bayes : \", accuracy_score(y_test, y_pred)*100, \"%\")\n",
        "ac_nb = accuracy_score(y_test, y_pred)*100\n",
        "print()\n",
        "print(\"Hasil F1 score Menggunakan Naive Bayes :\",f1_score(y_test, y_pred,)*100, \"%\")"
      ],
      "execution_count": 124,
      "outputs": [
        {
          "output_type": "stream",
          "name": "stdout",
          "text": [
            "Classification Report:\n",
            "               precision    recall  f1-score   support\n",
            "\n",
            "         0.0     0.9153    1.0000    0.9558        54\n",
            "         1.0     1.0000    0.8913    0.9425        46\n",
            "\n",
            "    accuracy                         0.9500       100\n",
            "   macro avg     0.9576    0.9457    0.9491       100\n",
            "weighted avg     0.9542    0.9500    0.9497       100\n",
            "\n",
            "Hasil Akurasi menggunakan Naive Bayes :  95.0 %\n",
            "\n",
            "Hasil F1 score Menggunakan Naive Bayes : 94.25287356321839 %\n"
          ]
        }
      ]
    },
    {
      "cell_type": "code",
      "metadata": {
        "colab": {
          "base_uri": "https://localhost:8080/",
          "height": 363
        },
        "id": "BXkOiLb9Xna4",
        "outputId": "fdb7e962-bfe4-4fb7-de94-3320f693d8c7"
      },
      "source": [
        "datavis = {\n",
        "  \"Method\": ['KNN','Naive Bayes','KNN & AG'],\n",
        "  \"accuracy\": [ac_knn,ac_nb,ac_knn_ag]\n",
        "}\n",
        "dfvis = pd.DataFrame(datavis)\n",
        "\n",
        "print(dfvis) \n",
        "\n",
        "plt.bar([1,2,3], dfvis.accuracy, tick_label = dfvis.Method,\n",
        "        width = 0.7, color = 'blue')\n",
        "plt.xlabel('Method')\n",
        "plt.ylabel('accuracy')\n",
        "plt.title('Tingkat akurasi Metode')\n",
        "plt.show()"
      ],
      "execution_count": 126,
      "outputs": [
        {
          "output_type": "stream",
          "name": "stdout",
          "text": [
            "        Method  accuracy\n",
            "0          KNN      81.0\n",
            "1  Naive Bayes      95.0\n",
            "2     KNN & AG      98.0\n"
          ]
        },
        {
          "output_type": "display_data",
          "data": {
            "image/png": "[encoded data removed]",
            "text/plain": [
              "<Figure size 432x288 with 1 Axes>"
            ]
          },
          "metadata": {
            "needs_background": "light"
          }
        }
      ]
    }
  ]
}